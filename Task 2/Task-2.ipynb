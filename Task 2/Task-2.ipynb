{
 "cells": [
  {
   "cell_type": "code",
   "execution_count": 1,
   "metadata": {
    "scrolled": true
   },
   "outputs": [],
   "source": [
    "import pandas as pd\n",
    "import numpy\n",
    "import math"
   ]
  },
  {
   "cell_type": "code",
   "execution_count": 2,
   "metadata": {
    "scrolled": true
   },
   "outputs": [
    {
     "data": {
      "text/html": [
       "<div>\n",
       "<style scoped>\n",
       "    .dataframe tbody tr th:only-of-type {\n",
       "        vertical-align: middle;\n",
       "    }\n",
       "\n",
       "    .dataframe tbody tr th {\n",
       "        vertical-align: top;\n",
       "    }\n",
       "\n",
       "    .dataframe thead th {\n",
       "        text-align: right;\n",
       "    }\n",
       "</style>\n",
       "<table border=\"1\" class=\"dataframe\">\n",
       "  <thead>\n",
       "    <tr style=\"text-align: right;\">\n",
       "      <th></th>\n",
       "      <th>Cinsiyet</th>\n",
       "      <th>soru1</th>\n",
       "      <th>soru2</th>\n",
       "      <th>soru3</th>\n",
       "      <th>soru4</th>\n",
       "      <th>soru5</th>\n",
       "      <th>soru6</th>\n",
       "      <th>soru7</th>\n",
       "      <th>soru8</th>\n",
       "      <th>soru9</th>\n",
       "      <th>soru10</th>\n",
       "      <th>parti</th>\n",
       "    </tr>\n",
       "  </thead>\n",
       "  <tbody>\n",
       "    <tr>\n",
       "      <th>461</th>\n",
       "      <td>Erkek</td>\n",
       "      <td>Hayır</td>\n",
       "      <td>Evet</td>\n",
       "      <td>Evet</td>\n",
       "      <td>Hayır</td>\n",
       "      <td>Hayır</td>\n",
       "      <td>Hayır</td>\n",
       "      <td>Evet</td>\n",
       "      <td>Hayır</td>\n",
       "      <td>Evet</td>\n",
       "      <td>Evet</td>\n",
       "      <td>DIĞER</td>\n",
       "    </tr>\n",
       "    <tr>\n",
       "      <th>462</th>\n",
       "      <td>Erkek</td>\n",
       "      <td>Hayır</td>\n",
       "      <td>Evet</td>\n",
       "      <td>Hayır</td>\n",
       "      <td>Evet</td>\n",
       "      <td>Hayır</td>\n",
       "      <td>Hayır</td>\n",
       "      <td>Evet</td>\n",
       "      <td>Hayır</td>\n",
       "      <td>Evet</td>\n",
       "      <td>Evet</td>\n",
       "      <td>IYI PARTI</td>\n",
       "    </tr>\n",
       "    <tr>\n",
       "      <th>463</th>\n",
       "      <td>Erkek</td>\n",
       "      <td>Evet</td>\n",
       "      <td>Evet</td>\n",
       "      <td>Evet</td>\n",
       "      <td>Evet</td>\n",
       "      <td>Hayır</td>\n",
       "      <td>Hayır</td>\n",
       "      <td>Evet</td>\n",
       "      <td>Evet</td>\n",
       "      <td>Evet</td>\n",
       "      <td>Evet</td>\n",
       "      <td>IYI PARTI</td>\n",
       "    </tr>\n",
       "    <tr>\n",
       "      <th>464</th>\n",
       "      <td>Erkek</td>\n",
       "      <td>Evet</td>\n",
       "      <td>Evet</td>\n",
       "      <td>Hayır</td>\n",
       "      <td>Hayır</td>\n",
       "      <td>Hayır</td>\n",
       "      <td>Hayır</td>\n",
       "      <td>Hayır</td>\n",
       "      <td>Hayır</td>\n",
       "      <td>Hayır</td>\n",
       "      <td>Evet</td>\n",
       "      <td>MHP</td>\n",
       "    </tr>\n",
       "    <tr>\n",
       "      <th>465</th>\n",
       "      <td>Erkek</td>\n",
       "      <td>Evet</td>\n",
       "      <td>Evet</td>\n",
       "      <td>Evet</td>\n",
       "      <td>Hayır</td>\n",
       "      <td>Hayır</td>\n",
       "      <td>Hayır</td>\n",
       "      <td>Evet</td>\n",
       "      <td>Hayır</td>\n",
       "      <td>Evet</td>\n",
       "      <td>Evet</td>\n",
       "      <td>IYI PARTI</td>\n",
       "    </tr>\n",
       "    <tr>\n",
       "      <th>466</th>\n",
       "      <td>Erkek</td>\n",
       "      <td>Hayır</td>\n",
       "      <td>Evet</td>\n",
       "      <td>Evet</td>\n",
       "      <td>Hayır</td>\n",
       "      <td>Hayır</td>\n",
       "      <td>Hayır</td>\n",
       "      <td>Evet</td>\n",
       "      <td>Evet</td>\n",
       "      <td>Evet</td>\n",
       "      <td>Evet</td>\n",
       "      <td>CHP</td>\n",
       "    </tr>\n",
       "    <tr>\n",
       "      <th>467</th>\n",
       "      <td>Erkek</td>\n",
       "      <td>Hayır</td>\n",
       "      <td>Evet</td>\n",
       "      <td>Hayır</td>\n",
       "      <td>Hayır</td>\n",
       "      <td>Hayır</td>\n",
       "      <td>Hayır</td>\n",
       "      <td>Evet</td>\n",
       "      <td>Hayır</td>\n",
       "      <td>Evet</td>\n",
       "      <td>Hayır</td>\n",
       "      <td>CHP</td>\n",
       "    </tr>\n",
       "    <tr>\n",
       "      <th>468</th>\n",
       "      <td>Erkek</td>\n",
       "      <td>Hayır</td>\n",
       "      <td>Evet</td>\n",
       "      <td>Hayır</td>\n",
       "      <td>Evet</td>\n",
       "      <td>Hayır</td>\n",
       "      <td>Hayır</td>\n",
       "      <td>Evet</td>\n",
       "      <td>Evet</td>\n",
       "      <td>Evet</td>\n",
       "      <td>Hayır</td>\n",
       "      <td>CHP</td>\n",
       "    </tr>\n",
       "    <tr>\n",
       "      <th>469</th>\n",
       "      <td>Erkek</td>\n",
       "      <td>Hayır</td>\n",
       "      <td>Evet</td>\n",
       "      <td>Evet</td>\n",
       "      <td>Evet</td>\n",
       "      <td>Hayır</td>\n",
       "      <td>Hayır</td>\n",
       "      <td>Evet</td>\n",
       "      <td>Hayır</td>\n",
       "      <td>Hayır</td>\n",
       "      <td>Hayır</td>\n",
       "      <td>DIĞER</td>\n",
       "    </tr>\n",
       "    <tr>\n",
       "      <th>470</th>\n",
       "      <td>Erkek</td>\n",
       "      <td>Hayır</td>\n",
       "      <td>Evet</td>\n",
       "      <td>Hayır</td>\n",
       "      <td>Hayır</td>\n",
       "      <td>Hayır</td>\n",
       "      <td>Hayır</td>\n",
       "      <td>Evet</td>\n",
       "      <td>Hayır</td>\n",
       "      <td>Evet</td>\n",
       "      <td>Evet</td>\n",
       "      <td>DIĞER</td>\n",
       "    </tr>\n",
       "  </tbody>\n",
       "</table>\n",
       "</div>"
      ],
      "text/plain": [
       "    Cinsiyet  soru1 soru2  soru3  soru4  soru5  soru6  soru7  soru8  soru9  \\\n",
       "461    Erkek  Hayır  Evet   Evet  Hayır  Hayır  Hayır   Evet  Hayır   Evet   \n",
       "462    Erkek  Hayır  Evet  Hayır   Evet  Hayır  Hayır   Evet  Hayır   Evet   \n",
       "463    Erkek   Evet  Evet   Evet   Evet  Hayır  Hayır   Evet   Evet   Evet   \n",
       "464    Erkek   Evet  Evet  Hayır  Hayır  Hayır  Hayır  Hayır  Hayır  Hayır   \n",
       "465    Erkek   Evet  Evet   Evet  Hayır  Hayır  Hayır   Evet  Hayır   Evet   \n",
       "466    Erkek  Hayır  Evet   Evet  Hayır  Hayır  Hayır   Evet   Evet   Evet   \n",
       "467    Erkek  Hayır  Evet  Hayır  Hayır  Hayır  Hayır   Evet  Hayır   Evet   \n",
       "468    Erkek  Hayır  Evet  Hayır   Evet  Hayır  Hayır   Evet   Evet   Evet   \n",
       "469    Erkek  Hayır  Evet   Evet   Evet  Hayır  Hayır   Evet  Hayır  Hayır   \n",
       "470    Erkek  Hayır  Evet  Hayır  Hayır  Hayır  Hayır   Evet  Hayır   Evet   \n",
       "\n",
       "    soru10      parti  \n",
       "461   Evet      DIĞER  \n",
       "462   Evet  IYI PARTI  \n",
       "463   Evet  IYI PARTI  \n",
       "464   Evet        MHP  \n",
       "465   Evet  IYI PARTI  \n",
       "466   Evet        CHP  \n",
       "467  Hayır        CHP  \n",
       "468  Hayır        CHP  \n",
       "469  Hayır      DIĞER  \n",
       "470   Evet      DIĞER  "
      ]
     },
     "execution_count": 2,
     "metadata": {},
     "output_type": "execute_result"
    }
   ],
   "source": [
    "fulldata = pd.read_csv('Data\\yonelimfinal.csv').drop(columns=['Timestamp', 'Bolge', 'Yas', 'Egitim'])\n",
    "data = fulldata.iloc[461:471]\n",
    "data"
   ]
  },
  {
   "cell_type": "code",
   "execution_count": 3,
   "metadata": {
    "scrolled": true
   },
   "outputs": [],
   "source": [
    "def calc_entropy(column):\n",
    "    \"\"\"\n",
    "    Calculate entropy given a pandas series, list, or numpy array.\n",
    "    \"\"\"\n",
    "    # Compute the counts of each unique value in the column\n",
    "    counts = pd.value_counts(column)\n",
    "    # Divide by the total column length to get a probability\n",
    "    probabilities = counts / len(column)\n",
    "    \n",
    "    # Initialize the entropy to 0\n",
    "    entropy = 0\n",
    "    # Loop through the probabilities, and add each one to the total entropy\n",
    "    for prob in probabilities:\n",
    "        if prob > 0:\n",
    "            # use log from math and set base to 2\n",
    "            entropy += prob * math.log(prob, 2)\n",
    "    \n",
    "    return -entropy"
   ]
  },
  {
   "cell_type": "code",
   "execution_count": 4,
   "metadata": {
    "scrolled": true
   },
   "outputs": [],
   "source": [
    "def calc_information_gain(data, split_name, target_name):\n",
    "    \"\"\"\n",
    "    Calculate information gain given a data set, column to split on, and target\n",
    "    \"\"\"\n",
    "    # Calculate the original entropy\n",
    "    original_entropy = calc_entropy(data[target_name])\n",
    "    \n",
    "    #Find the unique values in the column\n",
    "    values = data[split_name].unique()\n",
    "    \n",
    "\n",
    "    # Make two subsets of the data, based on the unique values\n",
    "    left_split = data[data[split_name] == values[0]]\n",
    "    right_split = data[data[split_name] == values[1]]\n",
    "    \n",
    "    # Loop through the splits and calculate the subset entropies\n",
    "    to_subtract = 0\n",
    "    for subset in [left_split, right_split]:\n",
    "        prob = (subset.shape[0] / data.shape[0]) \n",
    "        to_subtract += prob * calc_entropy(subset[target_name])\n",
    "    \n",
    "    # Return information gain\n",
    "    return original_entropy - to_subtract"
   ]
  },
  {
   "cell_type": "code",
   "execution_count": 5,
   "metadata": {
    "scrolled": true
   },
   "outputs": [],
   "source": [
    "columns = ['Cinsiyet', 'soru1', 'soru2', 'soru3', 'soru4', 'soru5', \n",
    "           'soru6', 'soru7', 'soru8', 'soru9', 'soru10']"
   ]
  },
  {
   "cell_type": "code",
   "execution_count": 6,
   "metadata": {
    "scrolled": true
   },
   "outputs": [],
   "source": [
    "def highest_info_gain(data, columns):\n",
    "  #Intialize an empty dictionary for information gains\n",
    "  information_gains = {}\n",
    "  \n",
    "  #Iterate through each column name in our list\n",
    "  for col in columns:\n",
    "    if(data[col].unique().size < 2):\n",
    "        continue\n",
    "    #Find the information gain for the column\n",
    "    information_gain = calc_information_gain(data, col, 'parti')\n",
    "    #Add the information gain to our dictionary using the column name as the key                                         \n",
    "    information_gains[col] = information_gain\n",
    "  \n",
    "  #Return the key with the highest value                                          \n",
    "  return max(information_gains, key=information_gains.get)"
   ]
  },
  {
   "cell_type": "code",
   "execution_count": 7,
   "metadata": {
    "scrolled": true
   },
   "outputs": [
    {
     "name": "stdout",
     "output_type": "stream",
     "text": [
      "soru1\n"
     ]
    }
   ],
   "source": [
    "print(highest_info_gain(data, columns))"
   ]
  },
  {
   "cell_type": "code",
   "execution_count": 8,
   "metadata": {
    "scrolled": true
   },
   "outputs": [
    {
     "data": {
      "text/html": [
       "<div>\n",
       "<style scoped>\n",
       "    .dataframe tbody tr th:only-of-type {\n",
       "        vertical-align: middle;\n",
       "    }\n",
       "\n",
       "    .dataframe tbody tr th {\n",
       "        vertical-align: top;\n",
       "    }\n",
       "\n",
       "    .dataframe thead th {\n",
       "        text-align: right;\n",
       "    }\n",
       "</style>\n",
       "<table border=\"1\" class=\"dataframe\">\n",
       "  <thead>\n",
       "    <tr style=\"text-align: right;\">\n",
       "      <th></th>\n",
       "      <th>Cinsiyet</th>\n",
       "      <th>soru2</th>\n",
       "      <th>soru3</th>\n",
       "      <th>soru4</th>\n",
       "      <th>soru5</th>\n",
       "      <th>soru6</th>\n",
       "      <th>soru7</th>\n",
       "      <th>soru8</th>\n",
       "      <th>soru9</th>\n",
       "      <th>soru10</th>\n",
       "      <th>parti</th>\n",
       "    </tr>\n",
       "  </thead>\n",
       "  <tbody>\n",
       "    <tr>\n",
       "      <th>463</th>\n",
       "      <td>Erkek</td>\n",
       "      <td>Evet</td>\n",
       "      <td>Evet</td>\n",
       "      <td>Evet</td>\n",
       "      <td>Hayır</td>\n",
       "      <td>Hayır</td>\n",
       "      <td>Evet</td>\n",
       "      <td>Evet</td>\n",
       "      <td>Evet</td>\n",
       "      <td>Evet</td>\n",
       "      <td>IYI PARTI</td>\n",
       "    </tr>\n",
       "    <tr>\n",
       "      <th>464</th>\n",
       "      <td>Erkek</td>\n",
       "      <td>Evet</td>\n",
       "      <td>Hayır</td>\n",
       "      <td>Hayır</td>\n",
       "      <td>Hayır</td>\n",
       "      <td>Hayır</td>\n",
       "      <td>Hayır</td>\n",
       "      <td>Hayır</td>\n",
       "      <td>Hayır</td>\n",
       "      <td>Evet</td>\n",
       "      <td>MHP</td>\n",
       "    </tr>\n",
       "    <tr>\n",
       "      <th>465</th>\n",
       "      <td>Erkek</td>\n",
       "      <td>Evet</td>\n",
       "      <td>Evet</td>\n",
       "      <td>Hayır</td>\n",
       "      <td>Hayır</td>\n",
       "      <td>Hayır</td>\n",
       "      <td>Evet</td>\n",
       "      <td>Hayır</td>\n",
       "      <td>Evet</td>\n",
       "      <td>Evet</td>\n",
       "      <td>IYI PARTI</td>\n",
       "    </tr>\n",
       "  </tbody>\n",
       "</table>\n",
       "</div>"
      ],
      "text/plain": [
       "    Cinsiyet soru2  soru3  soru4  soru5  soru6  soru7  soru8  soru9 soru10  \\\n",
       "463    Erkek  Evet   Evet   Evet  Hayır  Hayır   Evet   Evet   Evet   Evet   \n",
       "464    Erkek  Evet  Hayır  Hayır  Hayır  Hayır  Hayır  Hayır  Hayır   Evet   \n",
       "465    Erkek  Evet   Evet  Hayır  Hayır  Hayır   Evet  Hayır   Evet   Evet   \n",
       "\n",
       "         parti  \n",
       "463  IYI PARTI  \n",
       "464        MHP  \n",
       "465  IYI PARTI  "
      ]
     },
     "execution_count": 8,
     "metadata": {},
     "output_type": "execute_result"
    }
   ],
   "source": [
    "lc = data[data['soru1'] == 'Evet'].drop(columns=['soru1'])\n",
    "lc"
   ]
  },
  {
   "cell_type": "code",
   "execution_count": 9,
   "metadata": {
    "scrolled": true
   },
   "outputs": [
    {
     "data": {
      "text/html": [
       "<div>\n",
       "<style scoped>\n",
       "    .dataframe tbody tr th:only-of-type {\n",
       "        vertical-align: middle;\n",
       "    }\n",
       "\n",
       "    .dataframe tbody tr th {\n",
       "        vertical-align: top;\n",
       "    }\n",
       "\n",
       "    .dataframe thead th {\n",
       "        text-align: right;\n",
       "    }\n",
       "</style>\n",
       "<table border=\"1\" class=\"dataframe\">\n",
       "  <thead>\n",
       "    <tr style=\"text-align: right;\">\n",
       "      <th></th>\n",
       "      <th>Cinsiyet</th>\n",
       "      <th>soru2</th>\n",
       "      <th>soru3</th>\n",
       "      <th>soru4</th>\n",
       "      <th>soru5</th>\n",
       "      <th>soru6</th>\n",
       "      <th>soru7</th>\n",
       "      <th>soru8</th>\n",
       "      <th>soru9</th>\n",
       "      <th>soru10</th>\n",
       "      <th>parti</th>\n",
       "    </tr>\n",
       "  </thead>\n",
       "  <tbody>\n",
       "    <tr>\n",
       "      <th>461</th>\n",
       "      <td>Erkek</td>\n",
       "      <td>Evet</td>\n",
       "      <td>Evet</td>\n",
       "      <td>Hayır</td>\n",
       "      <td>Hayır</td>\n",
       "      <td>Hayır</td>\n",
       "      <td>Evet</td>\n",
       "      <td>Hayır</td>\n",
       "      <td>Evet</td>\n",
       "      <td>Evet</td>\n",
       "      <td>DIĞER</td>\n",
       "    </tr>\n",
       "    <tr>\n",
       "      <th>462</th>\n",
       "      <td>Erkek</td>\n",
       "      <td>Evet</td>\n",
       "      <td>Hayır</td>\n",
       "      <td>Evet</td>\n",
       "      <td>Hayır</td>\n",
       "      <td>Hayır</td>\n",
       "      <td>Evet</td>\n",
       "      <td>Hayır</td>\n",
       "      <td>Evet</td>\n",
       "      <td>Evet</td>\n",
       "      <td>IYI PARTI</td>\n",
       "    </tr>\n",
       "    <tr>\n",
       "      <th>466</th>\n",
       "      <td>Erkek</td>\n",
       "      <td>Evet</td>\n",
       "      <td>Evet</td>\n",
       "      <td>Hayır</td>\n",
       "      <td>Hayır</td>\n",
       "      <td>Hayır</td>\n",
       "      <td>Evet</td>\n",
       "      <td>Evet</td>\n",
       "      <td>Evet</td>\n",
       "      <td>Evet</td>\n",
       "      <td>CHP</td>\n",
       "    </tr>\n",
       "    <tr>\n",
       "      <th>467</th>\n",
       "      <td>Erkek</td>\n",
       "      <td>Evet</td>\n",
       "      <td>Hayır</td>\n",
       "      <td>Hayır</td>\n",
       "      <td>Hayır</td>\n",
       "      <td>Hayır</td>\n",
       "      <td>Evet</td>\n",
       "      <td>Hayır</td>\n",
       "      <td>Evet</td>\n",
       "      <td>Hayır</td>\n",
       "      <td>CHP</td>\n",
       "    </tr>\n",
       "    <tr>\n",
       "      <th>468</th>\n",
       "      <td>Erkek</td>\n",
       "      <td>Evet</td>\n",
       "      <td>Hayır</td>\n",
       "      <td>Evet</td>\n",
       "      <td>Hayır</td>\n",
       "      <td>Hayır</td>\n",
       "      <td>Evet</td>\n",
       "      <td>Evet</td>\n",
       "      <td>Evet</td>\n",
       "      <td>Hayır</td>\n",
       "      <td>CHP</td>\n",
       "    </tr>\n",
       "    <tr>\n",
       "      <th>469</th>\n",
       "      <td>Erkek</td>\n",
       "      <td>Evet</td>\n",
       "      <td>Evet</td>\n",
       "      <td>Evet</td>\n",
       "      <td>Hayır</td>\n",
       "      <td>Hayır</td>\n",
       "      <td>Evet</td>\n",
       "      <td>Hayır</td>\n",
       "      <td>Hayır</td>\n",
       "      <td>Hayır</td>\n",
       "      <td>DIĞER</td>\n",
       "    </tr>\n",
       "    <tr>\n",
       "      <th>470</th>\n",
       "      <td>Erkek</td>\n",
       "      <td>Evet</td>\n",
       "      <td>Hayır</td>\n",
       "      <td>Hayır</td>\n",
       "      <td>Hayır</td>\n",
       "      <td>Hayır</td>\n",
       "      <td>Evet</td>\n",
       "      <td>Hayır</td>\n",
       "      <td>Evet</td>\n",
       "      <td>Evet</td>\n",
       "      <td>DIĞER</td>\n",
       "    </tr>\n",
       "  </tbody>\n",
       "</table>\n",
       "</div>"
      ],
      "text/plain": [
       "    Cinsiyet soru2  soru3  soru4  soru5  soru6 soru7  soru8  soru9 soru10  \\\n",
       "461    Erkek  Evet   Evet  Hayır  Hayır  Hayır  Evet  Hayır   Evet   Evet   \n",
       "462    Erkek  Evet  Hayır   Evet  Hayır  Hayır  Evet  Hayır   Evet   Evet   \n",
       "466    Erkek  Evet   Evet  Hayır  Hayır  Hayır  Evet   Evet   Evet   Evet   \n",
       "467    Erkek  Evet  Hayır  Hayır  Hayır  Hayır  Evet  Hayır   Evet  Hayır   \n",
       "468    Erkek  Evet  Hayır   Evet  Hayır  Hayır  Evet   Evet   Evet  Hayır   \n",
       "469    Erkek  Evet   Evet   Evet  Hayır  Hayır  Evet  Hayır  Hayır  Hayır   \n",
       "470    Erkek  Evet  Hayır  Hayır  Hayır  Hayır  Evet  Hayır   Evet   Evet   \n",
       "\n",
       "         parti  \n",
       "461      DIĞER  \n",
       "462  IYI PARTI  \n",
       "466        CHP  \n",
       "467        CHP  \n",
       "468        CHP  \n",
       "469      DIĞER  \n",
       "470      DIĞER  "
      ]
     },
     "execution_count": 9,
     "metadata": {},
     "output_type": "execute_result"
    }
   ],
   "source": [
    "rc = data[data['soru1'] == 'Hayır'].drop(columns=['soru1'])\n",
    "rc"
   ]
  },
  {
   "cell_type": "code",
   "execution_count": 10,
   "metadata": {
    "scrolled": true
   },
   "outputs": [
    {
     "name": "stdout",
     "output_type": "stream",
     "text": [
      "soru3\n"
     ]
    }
   ],
   "source": [
    "cols = [y for y in columns if y != 'soru1']\n",
    "print(highest_info_gain(lc, cols))"
   ]
  },
  {
   "cell_type": "code",
   "execution_count": 11,
   "metadata": {
    "scrolled": true
   },
   "outputs": [
    {
     "data": {
      "text/html": [
       "<div>\n",
       "<style scoped>\n",
       "    .dataframe tbody tr th:only-of-type {\n",
       "        vertical-align: middle;\n",
       "    }\n",
       "\n",
       "    .dataframe tbody tr th {\n",
       "        vertical-align: top;\n",
       "    }\n",
       "\n",
       "    .dataframe thead th {\n",
       "        text-align: right;\n",
       "    }\n",
       "</style>\n",
       "<table border=\"1\" class=\"dataframe\">\n",
       "  <thead>\n",
       "    <tr style=\"text-align: right;\">\n",
       "      <th></th>\n",
       "      <th>Cinsiyet</th>\n",
       "      <th>soru2</th>\n",
       "      <th>soru4</th>\n",
       "      <th>soru5</th>\n",
       "      <th>soru6</th>\n",
       "      <th>soru7</th>\n",
       "      <th>soru8</th>\n",
       "      <th>soru9</th>\n",
       "      <th>soru10</th>\n",
       "      <th>parti</th>\n",
       "    </tr>\n",
       "  </thead>\n",
       "  <tbody>\n",
       "    <tr>\n",
       "      <th>463</th>\n",
       "      <td>Erkek</td>\n",
       "      <td>Evet</td>\n",
       "      <td>Evet</td>\n",
       "      <td>Hayır</td>\n",
       "      <td>Hayır</td>\n",
       "      <td>Evet</td>\n",
       "      <td>Evet</td>\n",
       "      <td>Evet</td>\n",
       "      <td>Evet</td>\n",
       "      <td>IYI PARTI</td>\n",
       "    </tr>\n",
       "    <tr>\n",
       "      <th>465</th>\n",
       "      <td>Erkek</td>\n",
       "      <td>Evet</td>\n",
       "      <td>Hayır</td>\n",
       "      <td>Hayır</td>\n",
       "      <td>Hayır</td>\n",
       "      <td>Evet</td>\n",
       "      <td>Hayır</td>\n",
       "      <td>Evet</td>\n",
       "      <td>Evet</td>\n",
       "      <td>IYI PARTI</td>\n",
       "    </tr>\n",
       "  </tbody>\n",
       "</table>\n",
       "</div>"
      ],
      "text/plain": [
       "    Cinsiyet soru2  soru4  soru5  soru6 soru7  soru8 soru9 soru10      parti\n",
       "463    Erkek  Evet   Evet  Hayır  Hayır  Evet   Evet  Evet   Evet  IYI PARTI\n",
       "465    Erkek  Evet  Hayır  Hayır  Hayır  Evet  Hayır  Evet   Evet  IYI PARTI"
      ]
     },
     "execution_count": 11,
     "metadata": {},
     "output_type": "execute_result"
    }
   ],
   "source": [
    "llc = lc[lc['soru3'] == 'Evet'].drop(columns=['soru3'])\n",
    "llc"
   ]
  },
  {
   "cell_type": "code",
   "execution_count": 12,
   "metadata": {
    "scrolled": true
   },
   "outputs": [
    {
     "data": {
      "text/html": [
       "<div>\n",
       "<style scoped>\n",
       "    .dataframe tbody tr th:only-of-type {\n",
       "        vertical-align: middle;\n",
       "    }\n",
       "\n",
       "    .dataframe tbody tr th {\n",
       "        vertical-align: top;\n",
       "    }\n",
       "\n",
       "    .dataframe thead th {\n",
       "        text-align: right;\n",
       "    }\n",
       "</style>\n",
       "<table border=\"1\" class=\"dataframe\">\n",
       "  <thead>\n",
       "    <tr style=\"text-align: right;\">\n",
       "      <th></th>\n",
       "      <th>Cinsiyet</th>\n",
       "      <th>soru2</th>\n",
       "      <th>soru4</th>\n",
       "      <th>soru5</th>\n",
       "      <th>soru6</th>\n",
       "      <th>soru7</th>\n",
       "      <th>soru8</th>\n",
       "      <th>soru9</th>\n",
       "      <th>soru10</th>\n",
       "      <th>parti</th>\n",
       "    </tr>\n",
       "  </thead>\n",
       "  <tbody>\n",
       "    <tr>\n",
       "      <th>464</th>\n",
       "      <td>Erkek</td>\n",
       "      <td>Evet</td>\n",
       "      <td>Hayır</td>\n",
       "      <td>Hayır</td>\n",
       "      <td>Hayır</td>\n",
       "      <td>Hayır</td>\n",
       "      <td>Hayır</td>\n",
       "      <td>Hayır</td>\n",
       "      <td>Evet</td>\n",
       "      <td>MHP</td>\n",
       "    </tr>\n",
       "  </tbody>\n",
       "</table>\n",
       "</div>"
      ],
      "text/plain": [
       "    Cinsiyet soru2  soru4  soru5  soru6  soru7  soru8  soru9 soru10 parti\n",
       "464    Erkek  Evet  Hayır  Hayır  Hayır  Hayır  Hayır  Hayır   Evet   MHP"
      ]
     },
     "execution_count": 12,
     "metadata": {},
     "output_type": "execute_result"
    }
   ],
   "source": [
    "lrc = lc[lc['soru3'] == 'Hayır'].drop(columns=['soru3'])\n",
    "lrc"
   ]
  },
  {
   "cell_type": "code",
   "execution_count": 13,
   "metadata": {
    "scrolled": true
   },
   "outputs": [
    {
     "name": "stdout",
     "output_type": "stream",
     "text": [
      "soru8\n"
     ]
    }
   ],
   "source": [
    "print(highest_info_gain(rc, cols))"
   ]
  },
  {
   "cell_type": "code",
   "execution_count": 14,
   "metadata": {
    "scrolled": true
   },
   "outputs": [
    {
     "data": {
      "text/html": [
       "<div>\n",
       "<style scoped>\n",
       "    .dataframe tbody tr th:only-of-type {\n",
       "        vertical-align: middle;\n",
       "    }\n",
       "\n",
       "    .dataframe tbody tr th {\n",
       "        vertical-align: top;\n",
       "    }\n",
       "\n",
       "    .dataframe thead th {\n",
       "        text-align: right;\n",
       "    }\n",
       "</style>\n",
       "<table border=\"1\" class=\"dataframe\">\n",
       "  <thead>\n",
       "    <tr style=\"text-align: right;\">\n",
       "      <th></th>\n",
       "      <th>Cinsiyet</th>\n",
       "      <th>soru2</th>\n",
       "      <th>soru3</th>\n",
       "      <th>soru4</th>\n",
       "      <th>soru5</th>\n",
       "      <th>soru6</th>\n",
       "      <th>soru7</th>\n",
       "      <th>soru9</th>\n",
       "      <th>soru10</th>\n",
       "      <th>parti</th>\n",
       "    </tr>\n",
       "  </thead>\n",
       "  <tbody>\n",
       "    <tr>\n",
       "      <th>466</th>\n",
       "      <td>Erkek</td>\n",
       "      <td>Evet</td>\n",
       "      <td>Evet</td>\n",
       "      <td>Hayır</td>\n",
       "      <td>Hayır</td>\n",
       "      <td>Hayır</td>\n",
       "      <td>Evet</td>\n",
       "      <td>Evet</td>\n",
       "      <td>Evet</td>\n",
       "      <td>CHP</td>\n",
       "    </tr>\n",
       "    <tr>\n",
       "      <th>468</th>\n",
       "      <td>Erkek</td>\n",
       "      <td>Evet</td>\n",
       "      <td>Hayır</td>\n",
       "      <td>Evet</td>\n",
       "      <td>Hayır</td>\n",
       "      <td>Hayır</td>\n",
       "      <td>Evet</td>\n",
       "      <td>Evet</td>\n",
       "      <td>Hayır</td>\n",
       "      <td>CHP</td>\n",
       "    </tr>\n",
       "  </tbody>\n",
       "</table>\n",
       "</div>"
      ],
      "text/plain": [
       "    Cinsiyet soru2  soru3  soru4  soru5  soru6 soru7 soru9 soru10 parti\n",
       "466    Erkek  Evet   Evet  Hayır  Hayır  Hayır  Evet  Evet   Evet   CHP\n",
       "468    Erkek  Evet  Hayır   Evet  Hayır  Hayır  Evet  Evet  Hayır   CHP"
      ]
     },
     "execution_count": 14,
     "metadata": {},
     "output_type": "execute_result"
    }
   ],
   "source": [
    "rlc = rc[rc['soru8'] == 'Evet'].drop(columns=['soru8'])\n",
    "rlc"
   ]
  },
  {
   "cell_type": "code",
   "execution_count": 15,
   "metadata": {
    "scrolled": true
   },
   "outputs": [
    {
     "data": {
      "text/html": [
       "<div>\n",
       "<style scoped>\n",
       "    .dataframe tbody tr th:only-of-type {\n",
       "        vertical-align: middle;\n",
       "    }\n",
       "\n",
       "    .dataframe tbody tr th {\n",
       "        vertical-align: top;\n",
       "    }\n",
       "\n",
       "    .dataframe thead th {\n",
       "        text-align: right;\n",
       "    }\n",
       "</style>\n",
       "<table border=\"1\" class=\"dataframe\">\n",
       "  <thead>\n",
       "    <tr style=\"text-align: right;\">\n",
       "      <th></th>\n",
       "      <th>Cinsiyet</th>\n",
       "      <th>soru2</th>\n",
       "      <th>soru3</th>\n",
       "      <th>soru4</th>\n",
       "      <th>soru5</th>\n",
       "      <th>soru6</th>\n",
       "      <th>soru7</th>\n",
       "      <th>soru9</th>\n",
       "      <th>soru10</th>\n",
       "      <th>parti</th>\n",
       "    </tr>\n",
       "  </thead>\n",
       "  <tbody>\n",
       "    <tr>\n",
       "      <th>461</th>\n",
       "      <td>Erkek</td>\n",
       "      <td>Evet</td>\n",
       "      <td>Evet</td>\n",
       "      <td>Hayır</td>\n",
       "      <td>Hayır</td>\n",
       "      <td>Hayır</td>\n",
       "      <td>Evet</td>\n",
       "      <td>Evet</td>\n",
       "      <td>Evet</td>\n",
       "      <td>DIĞER</td>\n",
       "    </tr>\n",
       "    <tr>\n",
       "      <th>462</th>\n",
       "      <td>Erkek</td>\n",
       "      <td>Evet</td>\n",
       "      <td>Hayır</td>\n",
       "      <td>Evet</td>\n",
       "      <td>Hayır</td>\n",
       "      <td>Hayır</td>\n",
       "      <td>Evet</td>\n",
       "      <td>Evet</td>\n",
       "      <td>Evet</td>\n",
       "      <td>IYI PARTI</td>\n",
       "    </tr>\n",
       "    <tr>\n",
       "      <th>467</th>\n",
       "      <td>Erkek</td>\n",
       "      <td>Evet</td>\n",
       "      <td>Hayır</td>\n",
       "      <td>Hayır</td>\n",
       "      <td>Hayır</td>\n",
       "      <td>Hayır</td>\n",
       "      <td>Evet</td>\n",
       "      <td>Evet</td>\n",
       "      <td>Hayır</td>\n",
       "      <td>CHP</td>\n",
       "    </tr>\n",
       "    <tr>\n",
       "      <th>469</th>\n",
       "      <td>Erkek</td>\n",
       "      <td>Evet</td>\n",
       "      <td>Evet</td>\n",
       "      <td>Evet</td>\n",
       "      <td>Hayır</td>\n",
       "      <td>Hayır</td>\n",
       "      <td>Evet</td>\n",
       "      <td>Hayır</td>\n",
       "      <td>Hayır</td>\n",
       "      <td>DIĞER</td>\n",
       "    </tr>\n",
       "    <tr>\n",
       "      <th>470</th>\n",
       "      <td>Erkek</td>\n",
       "      <td>Evet</td>\n",
       "      <td>Hayır</td>\n",
       "      <td>Hayır</td>\n",
       "      <td>Hayır</td>\n",
       "      <td>Hayır</td>\n",
       "      <td>Evet</td>\n",
       "      <td>Evet</td>\n",
       "      <td>Evet</td>\n",
       "      <td>DIĞER</td>\n",
       "    </tr>\n",
       "  </tbody>\n",
       "</table>\n",
       "</div>"
      ],
      "text/plain": [
       "    Cinsiyet soru2  soru3  soru4  soru5  soru6 soru7  soru9 soru10      parti\n",
       "461    Erkek  Evet   Evet  Hayır  Hayır  Hayır  Evet   Evet   Evet      DIĞER\n",
       "462    Erkek  Evet  Hayır   Evet  Hayır  Hayır  Evet   Evet   Evet  IYI PARTI\n",
       "467    Erkek  Evet  Hayır  Hayır  Hayır  Hayır  Evet   Evet  Hayır        CHP\n",
       "469    Erkek  Evet   Evet   Evet  Hayır  Hayır  Evet  Hayır  Hayır      DIĞER\n",
       "470    Erkek  Evet  Hayır  Hayır  Hayır  Hayır  Evet   Evet   Evet      DIĞER"
      ]
     },
     "execution_count": 15,
     "metadata": {},
     "output_type": "execute_result"
    }
   ],
   "source": [
    "rrc = rc[rc['soru8'] == 'Hayır'].drop(columns=['soru8'])\n",
    "rrc"
   ]
  },
  {
   "cell_type": "code",
   "execution_count": 16,
   "metadata": {
    "scrolled": true
   },
   "outputs": [
    {
     "name": "stdout",
     "output_type": "stream",
     "text": [
      "soru3\n"
     ]
    }
   ],
   "source": [
    "cols2 = [y for y in cols if y != 'soru8']\n",
    "print(highest_info_gain(rrc, cols2))"
   ]
  },
  {
   "cell_type": "code",
   "execution_count": 17,
   "metadata": {
    "scrolled": true
   },
   "outputs": [
    {
     "data": {
      "text/html": [
       "<div>\n",
       "<style scoped>\n",
       "    .dataframe tbody tr th:only-of-type {\n",
       "        vertical-align: middle;\n",
       "    }\n",
       "\n",
       "    .dataframe tbody tr th {\n",
       "        vertical-align: top;\n",
       "    }\n",
       "\n",
       "    .dataframe thead th {\n",
       "        text-align: right;\n",
       "    }\n",
       "</style>\n",
       "<table border=\"1\" class=\"dataframe\">\n",
       "  <thead>\n",
       "    <tr style=\"text-align: right;\">\n",
       "      <th></th>\n",
       "      <th>Cinsiyet</th>\n",
       "      <th>soru2</th>\n",
       "      <th>soru4</th>\n",
       "      <th>soru5</th>\n",
       "      <th>soru6</th>\n",
       "      <th>soru7</th>\n",
       "      <th>soru9</th>\n",
       "      <th>soru10</th>\n",
       "      <th>parti</th>\n",
       "    </tr>\n",
       "  </thead>\n",
       "  <tbody>\n",
       "    <tr>\n",
       "      <th>461</th>\n",
       "      <td>Erkek</td>\n",
       "      <td>Evet</td>\n",
       "      <td>Hayır</td>\n",
       "      <td>Hayır</td>\n",
       "      <td>Hayır</td>\n",
       "      <td>Evet</td>\n",
       "      <td>Evet</td>\n",
       "      <td>Evet</td>\n",
       "      <td>DIĞER</td>\n",
       "    </tr>\n",
       "    <tr>\n",
       "      <th>469</th>\n",
       "      <td>Erkek</td>\n",
       "      <td>Evet</td>\n",
       "      <td>Evet</td>\n",
       "      <td>Hayır</td>\n",
       "      <td>Hayır</td>\n",
       "      <td>Evet</td>\n",
       "      <td>Hayır</td>\n",
       "      <td>Hayır</td>\n",
       "      <td>DIĞER</td>\n",
       "    </tr>\n",
       "  </tbody>\n",
       "</table>\n",
       "</div>"
      ],
      "text/plain": [
       "    Cinsiyet soru2  soru4  soru5  soru6 soru7  soru9 soru10  parti\n",
       "461    Erkek  Evet  Hayır  Hayır  Hayır  Evet   Evet   Evet  DIĞER\n",
       "469    Erkek  Evet   Evet  Hayır  Hayır  Evet  Hayır  Hayır  DIĞER"
      ]
     },
     "execution_count": 17,
     "metadata": {},
     "output_type": "execute_result"
    }
   ],
   "source": [
    "rrlc = rrc[rrc['soru3'] == 'Evet'].drop(columns=['soru3'])\n",
    "rrlc"
   ]
  },
  {
   "cell_type": "code",
   "execution_count": 18,
   "metadata": {
    "scrolled": true
   },
   "outputs": [
    {
     "data": {
      "text/html": [
       "<div>\n",
       "<style scoped>\n",
       "    .dataframe tbody tr th:only-of-type {\n",
       "        vertical-align: middle;\n",
       "    }\n",
       "\n",
       "    .dataframe tbody tr th {\n",
       "        vertical-align: top;\n",
       "    }\n",
       "\n",
       "    .dataframe thead th {\n",
       "        text-align: right;\n",
       "    }\n",
       "</style>\n",
       "<table border=\"1\" class=\"dataframe\">\n",
       "  <thead>\n",
       "    <tr style=\"text-align: right;\">\n",
       "      <th></th>\n",
       "      <th>Cinsiyet</th>\n",
       "      <th>soru2</th>\n",
       "      <th>soru4</th>\n",
       "      <th>soru5</th>\n",
       "      <th>soru6</th>\n",
       "      <th>soru7</th>\n",
       "      <th>soru9</th>\n",
       "      <th>soru10</th>\n",
       "      <th>parti</th>\n",
       "    </tr>\n",
       "  </thead>\n",
       "  <tbody>\n",
       "    <tr>\n",
       "      <th>462</th>\n",
       "      <td>Erkek</td>\n",
       "      <td>Evet</td>\n",
       "      <td>Evet</td>\n",
       "      <td>Hayır</td>\n",
       "      <td>Hayır</td>\n",
       "      <td>Evet</td>\n",
       "      <td>Evet</td>\n",
       "      <td>Evet</td>\n",
       "      <td>IYI PARTI</td>\n",
       "    </tr>\n",
       "    <tr>\n",
       "      <th>467</th>\n",
       "      <td>Erkek</td>\n",
       "      <td>Evet</td>\n",
       "      <td>Hayır</td>\n",
       "      <td>Hayır</td>\n",
       "      <td>Hayır</td>\n",
       "      <td>Evet</td>\n",
       "      <td>Evet</td>\n",
       "      <td>Hayır</td>\n",
       "      <td>CHP</td>\n",
       "    </tr>\n",
       "    <tr>\n",
       "      <th>470</th>\n",
       "      <td>Erkek</td>\n",
       "      <td>Evet</td>\n",
       "      <td>Hayır</td>\n",
       "      <td>Hayır</td>\n",
       "      <td>Hayır</td>\n",
       "      <td>Evet</td>\n",
       "      <td>Evet</td>\n",
       "      <td>Evet</td>\n",
       "      <td>DIĞER</td>\n",
       "    </tr>\n",
       "  </tbody>\n",
       "</table>\n",
       "</div>"
      ],
      "text/plain": [
       "    Cinsiyet soru2  soru4  soru5  soru6 soru7 soru9 soru10      parti\n",
       "462    Erkek  Evet   Evet  Hayır  Hayır  Evet  Evet   Evet  IYI PARTI\n",
       "467    Erkek  Evet  Hayır  Hayır  Hayır  Evet  Evet  Hayır        CHP\n",
       "470    Erkek  Evet  Hayır  Hayır  Hayır  Evet  Evet   Evet      DIĞER"
      ]
     },
     "execution_count": 18,
     "metadata": {},
     "output_type": "execute_result"
    }
   ],
   "source": [
    "rrrc = rrc[rrc['soru3'] == 'Hayır'].drop(columns=['soru3'])\n",
    "rrrc"
   ]
  },
  {
   "cell_type": "code",
   "execution_count": 19,
   "metadata": {
    "scrolled": true
   },
   "outputs": [
    {
     "name": "stdout",
     "output_type": "stream",
     "text": [
      "soru4\n"
     ]
    }
   ],
   "source": [
    "cols3 = [y for y in cols2 if y != 'soru3']\n",
    "print(highest_info_gain(rrrc, cols3))"
   ]
  },
  {
   "cell_type": "code",
   "execution_count": 20,
   "metadata": {
    "scrolled": true
   },
   "outputs": [
    {
     "data": {
      "text/html": [
       "<div>\n",
       "<style scoped>\n",
       "    .dataframe tbody tr th:only-of-type {\n",
       "        vertical-align: middle;\n",
       "    }\n",
       "\n",
       "    .dataframe tbody tr th {\n",
       "        vertical-align: top;\n",
       "    }\n",
       "\n",
       "    .dataframe thead th {\n",
       "        text-align: right;\n",
       "    }\n",
       "</style>\n",
       "<table border=\"1\" class=\"dataframe\">\n",
       "  <thead>\n",
       "    <tr style=\"text-align: right;\">\n",
       "      <th></th>\n",
       "      <th>Cinsiyet</th>\n",
       "      <th>soru2</th>\n",
       "      <th>soru5</th>\n",
       "      <th>soru6</th>\n",
       "      <th>soru7</th>\n",
       "      <th>soru9</th>\n",
       "      <th>soru10</th>\n",
       "      <th>parti</th>\n",
       "    </tr>\n",
       "  </thead>\n",
       "  <tbody>\n",
       "    <tr>\n",
       "      <th>462</th>\n",
       "      <td>Erkek</td>\n",
       "      <td>Evet</td>\n",
       "      <td>Hayır</td>\n",
       "      <td>Hayır</td>\n",
       "      <td>Evet</td>\n",
       "      <td>Evet</td>\n",
       "      <td>Evet</td>\n",
       "      <td>IYI PARTI</td>\n",
       "    </tr>\n",
       "  </tbody>\n",
       "</table>\n",
       "</div>"
      ],
      "text/plain": [
       "    Cinsiyet soru2  soru5  soru6 soru7 soru9 soru10      parti\n",
       "462    Erkek  Evet  Hayır  Hayır  Evet  Evet   Evet  IYI PARTI"
      ]
     },
     "execution_count": 20,
     "metadata": {},
     "output_type": "execute_result"
    }
   ],
   "source": [
    "rrrlc = rrrc[rrrc['soru4'] == 'Evet'].drop(columns=['soru4'])\n",
    "rrrlc"
   ]
  },
  {
   "cell_type": "code",
   "execution_count": 21,
   "metadata": {
    "scrolled": true
   },
   "outputs": [
    {
     "data": {
      "text/html": [
       "<div>\n",
       "<style scoped>\n",
       "    .dataframe tbody tr th:only-of-type {\n",
       "        vertical-align: middle;\n",
       "    }\n",
       "\n",
       "    .dataframe tbody tr th {\n",
       "        vertical-align: top;\n",
       "    }\n",
       "\n",
       "    .dataframe thead th {\n",
       "        text-align: right;\n",
       "    }\n",
       "</style>\n",
       "<table border=\"1\" class=\"dataframe\">\n",
       "  <thead>\n",
       "    <tr style=\"text-align: right;\">\n",
       "      <th></th>\n",
       "      <th>Cinsiyet</th>\n",
       "      <th>soru2</th>\n",
       "      <th>soru5</th>\n",
       "      <th>soru6</th>\n",
       "      <th>soru7</th>\n",
       "      <th>soru9</th>\n",
       "      <th>soru10</th>\n",
       "      <th>parti</th>\n",
       "    </tr>\n",
       "  </thead>\n",
       "  <tbody>\n",
       "    <tr>\n",
       "      <th>467</th>\n",
       "      <td>Erkek</td>\n",
       "      <td>Evet</td>\n",
       "      <td>Hayır</td>\n",
       "      <td>Hayır</td>\n",
       "      <td>Evet</td>\n",
       "      <td>Evet</td>\n",
       "      <td>Hayır</td>\n",
       "      <td>CHP</td>\n",
       "    </tr>\n",
       "    <tr>\n",
       "      <th>470</th>\n",
       "      <td>Erkek</td>\n",
       "      <td>Evet</td>\n",
       "      <td>Hayır</td>\n",
       "      <td>Hayır</td>\n",
       "      <td>Evet</td>\n",
       "      <td>Evet</td>\n",
       "      <td>Evet</td>\n",
       "      <td>DIĞER</td>\n",
       "    </tr>\n",
       "  </tbody>\n",
       "</table>\n",
       "</div>"
      ],
      "text/plain": [
       "    Cinsiyet soru2  soru5  soru6 soru7 soru9 soru10  parti\n",
       "467    Erkek  Evet  Hayır  Hayır  Evet  Evet  Hayır    CHP\n",
       "470    Erkek  Evet  Hayır  Hayır  Evet  Evet   Evet  DIĞER"
      ]
     },
     "execution_count": 21,
     "metadata": {},
     "output_type": "execute_result"
    }
   ],
   "source": [
    "rrrrc = rrrc[rrrc['soru4'] == 'Hayır'].drop(columns=['soru4'])\n",
    "rrrrc"
   ]
  },
  {
   "cell_type": "code",
   "execution_count": 22,
   "metadata": {
    "scrolled": true
   },
   "outputs": [
    {
     "name": "stdout",
     "output_type": "stream",
     "text": [
      "soru10\n"
     ]
    }
   ],
   "source": [
    "cols4 = [y for y in cols3 if y != 'soru4']\n",
    "print(highest_info_gain(rrrrc, cols4))"
   ]
  },
  {
   "cell_type": "code",
   "execution_count": 23,
   "metadata": {
    "scrolled": true
   },
   "outputs": [
    {
     "data": {
      "text/html": [
       "<div>\n",
       "<style scoped>\n",
       "    .dataframe tbody tr th:only-of-type {\n",
       "        vertical-align: middle;\n",
       "    }\n",
       "\n",
       "    .dataframe tbody tr th {\n",
       "        vertical-align: top;\n",
       "    }\n",
       "\n",
       "    .dataframe thead th {\n",
       "        text-align: right;\n",
       "    }\n",
       "</style>\n",
       "<table border=\"1\" class=\"dataframe\">\n",
       "  <thead>\n",
       "    <tr style=\"text-align: right;\">\n",
       "      <th></th>\n",
       "      <th>Cinsiyet</th>\n",
       "      <th>soru2</th>\n",
       "      <th>soru5</th>\n",
       "      <th>soru6</th>\n",
       "      <th>soru7</th>\n",
       "      <th>soru9</th>\n",
       "      <th>parti</th>\n",
       "    </tr>\n",
       "  </thead>\n",
       "  <tbody>\n",
       "    <tr>\n",
       "      <th>470</th>\n",
       "      <td>Erkek</td>\n",
       "      <td>Evet</td>\n",
       "      <td>Hayır</td>\n",
       "      <td>Hayır</td>\n",
       "      <td>Evet</td>\n",
       "      <td>Evet</td>\n",
       "      <td>DIĞER</td>\n",
       "    </tr>\n",
       "  </tbody>\n",
       "</table>\n",
       "</div>"
      ],
      "text/plain": [
       "    Cinsiyet soru2  soru5  soru6 soru7 soru9  parti\n",
       "470    Erkek  Evet  Hayır  Hayır  Evet  Evet  DIĞER"
      ]
     },
     "execution_count": 23,
     "metadata": {},
     "output_type": "execute_result"
    }
   ],
   "source": [
    "rrrrlc = rrrrc[rrrrc['soru10'] == 'Evet'].drop(columns=['soru10'])\n",
    "rrrrlc"
   ]
  },
  {
   "cell_type": "code",
   "execution_count": 24,
   "metadata": {
    "scrolled": true
   },
   "outputs": [
    {
     "data": {
      "text/html": [
       "<div>\n",
       "<style scoped>\n",
       "    .dataframe tbody tr th:only-of-type {\n",
       "        vertical-align: middle;\n",
       "    }\n",
       "\n",
       "    .dataframe tbody tr th {\n",
       "        vertical-align: top;\n",
       "    }\n",
       "\n",
       "    .dataframe thead th {\n",
       "        text-align: right;\n",
       "    }\n",
       "</style>\n",
       "<table border=\"1\" class=\"dataframe\">\n",
       "  <thead>\n",
       "    <tr style=\"text-align: right;\">\n",
       "      <th></th>\n",
       "      <th>Cinsiyet</th>\n",
       "      <th>soru2</th>\n",
       "      <th>soru5</th>\n",
       "      <th>soru6</th>\n",
       "      <th>soru7</th>\n",
       "      <th>soru9</th>\n",
       "      <th>parti</th>\n",
       "    </tr>\n",
       "  </thead>\n",
       "  <tbody>\n",
       "    <tr>\n",
       "      <th>467</th>\n",
       "      <td>Erkek</td>\n",
       "      <td>Evet</td>\n",
       "      <td>Hayır</td>\n",
       "      <td>Hayır</td>\n",
       "      <td>Evet</td>\n",
       "      <td>Evet</td>\n",
       "      <td>CHP</td>\n",
       "    </tr>\n",
       "  </tbody>\n",
       "</table>\n",
       "</div>"
      ],
      "text/plain": [
       "    Cinsiyet soru2  soru5  soru6 soru7 soru9 parti\n",
       "467    Erkek  Evet  Hayır  Hayır  Evet  Evet   CHP"
      ]
     },
     "execution_count": 24,
     "metadata": {},
     "output_type": "execute_result"
    }
   ],
   "source": [
    "rrrrrc = rrrrc[rrrrc['soru10'] == 'Hayır'].drop(columns=['soru10'])\n",
    "rrrrrc"
   ]
  },
  {
   "cell_type": "code",
   "execution_count": 25,
   "metadata": {
    "scrolled": true
   },
   "outputs": [],
   "source": [
    "def id3Check(record):\n",
    "    if record['soru1'] == 'Evet':\n",
    "        if record['soru3'] == 'Evet':\n",
    "            return 'IYI PARTI'\n",
    "        if record['soru3'] == 'Hayır':\n",
    "            return 'MHP'\n",
    "    if record['soru1'] == 'Hayır':\n",
    "        if record['soru8'] == 'Evet':\n",
    "            return 'CHP'\n",
    "        if record['soru8'] == 'Hayır':\n",
    "            if record['soru3'] == 'Evet':\n",
    "                return 'DIĞER'\n",
    "            if record['soru3'] == 'Hayır':\n",
    "                if record['soru4'] == 'Evet':\n",
    "                    return 'IYI PARTI'\n",
    "                if record['soru4'] == 'Hayır':\n",
    "                    if record['soru10'] == 'Evet':\n",
    "                        return 'DIĞER'\n",
    "                    if record['soru10'] == 'Hayır':\n",
    "                        return 'CHP'"
   ]
  },
  {
   "cell_type": "code",
   "execution_count": 26,
   "metadata": {
    "scrolled": true
   },
   "outputs": [
    {
     "data": {
      "text/plain": [
       "0.183"
      ]
     },
     "execution_count": 26,
     "metadata": {},
     "output_type": "execute_result"
    }
   ],
   "source": [
    "correct = 0\n",
    "for i in range(885):\n",
    "    if id3Check(fulldata.iloc[i]) == fulldata.iloc[i]['parti']:\n",
    "        correct += 1\n",
    "round(correct/885, 3)"
   ]
  },
  {
   "cell_type": "code",
   "execution_count": 27,
   "metadata": {
    "scrolled": true
   },
   "outputs": [
    {
     "name": "stdout",
     "output_type": "stream",
     "text": [
      "ID3  tree is going to be built...\n",
      "-------------------------\n",
      "finished in  0.803849458694458  seconds\n",
      "-------------------------\n",
      "Evaluate  train set\n",
      "-------------------------\n",
      "Accuracy:  100.0 % on  10  instances\n",
      "Labels:  ['DIĞER' 'IYI PARTI' 'MHP' 'CHP']\n",
      "Confusion matrix:  [[3, 0, 0, 0], [0, 3, 0, 0], [0, 0, 1, 0], [0, 0, 0, 3]]\n",
      "Decision  DIĞER  => Accuray:  100.0 %, Precision:  100.0 %, Recall:  100.0 %, F1:  100.0 %\n",
      "Decision  IYI PARTI  => Accuray:  100.0 %, Precision:  100.0 %, Recall:  100.0 %, F1:  100.0 %\n",
      "Decision  MHP  => Accuray:  100.0 %, Precision:  100.0 %, Recall:  100.0 %, F1:  100.0 %\n",
      "Decision  CHP  => Accuray:  100.0 %, Precision:  100.0 %, Recall:  100.0 %, F1:  100.0 %\n"
     ]
    }
   ],
   "source": [
    "from chefboost import Chefboost as chef\n",
    "\n",
    "df = data.rename(columns={'parti': 'Decision'})\n",
    "\n",
    "config = {'algorithm': 'ID3'}\n",
    "model = chef.fit(df, config = config)"
   ]
  },
  {
   "cell_type": "code",
   "execution_count": 28,
   "metadata": {
    "scrolled": true
   },
   "outputs": [
    {
     "name": "stdout",
     "output_type": "stream",
     "text": [
      "ID3  tree is going to be built...\n",
      "-------------------------\n",
      "finished in  22.943624019622803  seconds\n",
      "-------------------------\n",
      "Evaluate  train set\n",
      "-------------------------\n",
      "Accuracy:  70.66666666666667 % on  300  instances\n",
      "Labels:  ['IYI PARTI' 'CHP' 'MHP' 'DIĞER' 'AKP' 'HDP']\n",
      "Confusion matrix:  [[71, 21, 2, 11, 1, 1], [23, 54, 1, 14, 1, 3], [2, 2, 8, 0, 0, 0], [0, 1, 0, 36, 1, 0], [1, 0, 0, 3, 40, 0], [0, 0, 0, 0, 0, 3]]\n",
      "Decision  IYI PARTI  => Accuray:  79.3333 %, Precision:  66.3551 %, Recall:  73.1959 %, F1:  69.6078 %\n",
      "Decision  CHP  => Accuray:  78.0 %, Precision:  56.25 %, Recall:  69.2308 %, F1:  62.069 %\n",
      "Decision  MHP  => Accuray:  97.6667 %, Precision:  66.6667 %, Recall:  72.7273 %, F1:  69.5652 %\n",
      "Decision  DIĞER  => Accuray:  90.0 %, Precision:  94.7368 %, Recall:  56.25 %, F1:  70.5882 %\n",
      "Decision  AKP  => Accuray:  97.6667 %, Precision:  90.9091 %, Recall:  93.0233 %, F1:  91.954 %\n",
      "Decision  HDP  => Accuray:  98.6667 %, Precision:  100.0 %, Recall:  42.8571 %, F1:  60.0 %\n"
     ]
    }
   ],
   "source": [
    "from chefboost import Chefboost as chef\n",
    "\n",
    "df = fulldata.rename(columns={'parti': 'Decision'}).sample(300)\n",
    "\n",
    "config = {'algorithm': 'ID3'}\n",
    "model = chef.fit(df, config = config)"
   ]
  },
  {
   "cell_type": "code",
   "execution_count": 29,
   "metadata": {
    "scrolled": true
   },
   "outputs": [],
   "source": [
    "def id3Check(record):\n",
    "    cinsiyet = record['Cinsiyet']\n",
    "#    Yas = record['Yas']\n",
    "#    Bolge = record['Bolge']\n",
    "#    Egitim = record['Egitim']\n",
    "    soru1 = record['soru1']\n",
    "    soru2 = record['soru2']\n",
    "    soru3 = record['soru3']\n",
    "    soru4 = record['soru4']\n",
    "    soru5 = record['soru5']\n",
    "    soru6 = record['soru6']\n",
    "    soru7 = record['soru7']\n",
    "    soru8 = record['soru8']\n",
    "    soru9 = record['soru9']\n",
    "    soru10 = record['soru10']\n",
    "    prediction = chef.predict(model, param = [cinsiyet, soru1,soru2,soru3,soru4,soru5,soru6,soru7,soru8,soru9,soru10])\n",
    "    return prediction"
   ]
  },
  {
   "cell_type": "code",
   "execution_count": 30,
   "metadata": {
    "scrolled": true
   },
   "outputs": [
    {
     "data": {
      "text/plain": [
       "0.516"
      ]
     },
     "execution_count": 30,
     "metadata": {},
     "output_type": "execute_result"
    }
   ],
   "source": [
    "correct = 0\n",
    "for i in range(885):\n",
    "    if id3Check(fulldata.iloc[i]) == fulldata.iloc[i]['parti']:\n",
    "        correct += 1\n",
    "round(correct/885, 3)"
   ]
  },
  {
   "cell_type": "code",
   "execution_count": 31,
   "metadata": {
    "scrolled": true
   },
   "outputs": [
    {
     "name": "stdout",
     "output_type": "stream",
     "text": [
      "C4.5  tree is going to be built...\n",
      "-------------------------\n",
      "finished in  20.09727168083191  seconds\n",
      "-------------------------\n",
      "Evaluate  train set\n",
      "-------------------------\n",
      "Accuracy:  70.66666666666667 % on  300  instances\n",
      "Labels:  ['IYI PARTI' 'CHP' 'MHP' 'DIĞER' 'AKP' 'HDP']\n",
      "Confusion matrix:  [[71, 21, 2, 11, 1, 1], [23, 54, 1, 14, 1, 3], [2, 2, 8, 0, 0, 0], [0, 1, 0, 36, 1, 0], [1, 0, 0, 3, 40, 0], [0, 0, 0, 0, 0, 3]]\n",
      "Decision  IYI PARTI  => Accuray:  79.3333 %, Precision:  66.3551 %, Recall:  73.1959 %, F1:  69.6078 %\n",
      "Decision  CHP  => Accuray:  78.0 %, Precision:  56.25 %, Recall:  69.2308 %, F1:  62.069 %\n",
      "Decision  MHP  => Accuray:  97.6667 %, Precision:  66.6667 %, Recall:  72.7273 %, F1:  69.5652 %\n",
      "Decision  DIĞER  => Accuray:  90.0 %, Precision:  94.7368 %, Recall:  56.25 %, F1:  70.5882 %\n",
      "Decision  AKP  => Accuray:  97.6667 %, Precision:  90.9091 %, Recall:  93.0233 %, F1:  91.954 %\n",
      "Decision  HDP  => Accuray:  98.6667 %, Precision:  100.0 %, Recall:  42.8571 %, F1:  60.0 %\n"
     ]
    }
   ],
   "source": [
    "config2 = {'algorithm': 'C4.5'}\n",
    "model2 = chef.fit(df, config = config2)"
   ]
  },
  {
   "cell_type": "code",
   "execution_count": 32,
   "metadata": {
    "scrolled": true
   },
   "outputs": [],
   "source": [
    "def c45Check(record):\n",
    "    cinsiyet = record['Cinsiyet']\n",
    "#    Yas = record['Yas']\n",
    "#    Bolge = record['Bolge']\n",
    "#    Egitim = record['Egitim']\n",
    "    soru1 = record['soru1']\n",
    "    soru2 = record['soru2']\n",
    "    soru3 = record['soru3']\n",
    "    soru4 = record['soru4']\n",
    "    soru5 = record['soru5']\n",
    "    soru6 = record['soru6']\n",
    "    soru7 = record['soru7']\n",
    "    soru8 = record['soru8']\n",
    "    soru9 = record['soru9']\n",
    "    soru10 = record['soru10']\n",
    "    prediction = chef.predict(model2, param = [cinsiyet, soru1,soru2,soru3,soru4,soru5,soru6,soru7,soru8,soru9,soru10])\n",
    "    return prediction"
   ]
  },
  {
   "cell_type": "code",
   "execution_count": 33,
   "metadata": {
    "scrolled": true
   },
   "outputs": [
    {
     "data": {
      "text/plain": [
       "0.499"
      ]
     },
     "execution_count": 33,
     "metadata": {},
     "output_type": "execute_result"
    }
   ],
   "source": [
    "correct = 0\n",
    "for i in range(885):\n",
    "    if c45Check(fulldata.iloc[i]) == fulldata.iloc[i]['parti']:\n",
    "        correct += 1\n",
    "round(correct/885, 3)"
   ]
  }
 ],
 "metadata": {
  "kernelspec": {
   "display_name": "Python 3",
   "language": "python",
   "name": "python3"
  },
  "language_info": {
   "codemirror_mode": {
    "name": "ipython",
    "version": 3
   },
   "file_extension": ".py",
   "mimetype": "text/x-python",
   "name": "python",
   "nbconvert_exporter": "python",
   "pygments_lexer": "ipython3",
   "version": "3.8.3"
  }
 },
 "nbformat": 4,
 "nbformat_minor": 4
}
